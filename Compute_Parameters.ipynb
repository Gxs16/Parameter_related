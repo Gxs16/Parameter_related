{
 "cells": [
  {
   "cell_type": "code",
   "execution_count": 1,
   "metadata": {},
   "outputs": [],
   "source": [
    "from ef5_kw_estimate import ReadGrid, WriteGrid\n",
    "import numpy as np\n",
    "import pickle"
   ]
  },
  {
   "cell_type": "markdown",
   "metadata": {},
   "source": [
    "# Compute alpha0\n",
    "## Requirements\n",
    "* slope   *'KW_parameters/DEM/slope_3rds.tif'*\n",
    "* manning   *'KW_parameters/data/manningn.tif'*\n",
    "* COEM\n",
    "\n",
    "## Formulas\n",
    "$$\n",
    "COEM = \\frac{1}{maning}\\\\\n",
    "alpha0 = (\\frac{1}{COEM\\times\\sqrt{\\frac{slope}{100}}})^{\\frac{3}{5}}\n",
    "$$"
   ]
  },
  {
   "cell_type": "code",
   "execution_count": null,
   "metadata": {},
   "outputs": [],
   "source": [
    "slope = ReadGrid('KW_parameters/DEM/slope_3rds.tif', keepInfo=True)\n",
    "maning = ReadGrid('KW_parameters/data/manningn.tif')"
   ]
  },
  {
   "cell_type": "code",
   "execution_count": null,
   "metadata": {},
   "outputs": [],
   "source": [
    "Coem = 1/maning\n",
    "alpha0 = (1/Coem/(slope/100)**0.5)**(3/5)\n",
    "WriteGrid('KW_parameters/data/alpha0.tif', alpha0)"
   ]
  },
  {
   "cell_type": "markdown",
   "metadata": {},
   "source": [
    "# Compute under and leaki\n",
    "## Requirements\n",
    "* KSAT *'CREST_Parameters/ksat.tif'*\n",
    "* leaki = 0.003\n",
    "\n",
    "## Formulas\n",
    "$$\n",
    "under = KSAT \\times 0.001\\\\\n",
    "leaki = 0.003\n",
    "$$"
   ]
  },
  {
   "cell_type": "code",
   "execution_count": null,
   "metadata": {},
   "outputs": [],
   "source": [
    "KSAT = ReadFrid('CREST_Parameters/ksat.tif',keepInfo=True)\n",
    "under = KSAT * 0.001\n",
    "leaki = KSAT\n",
    "leaki[:,:] = 0.003"
   ]
  },
  {
   "cell_type": "code",
   "execution_count": null,
   "metadata": {},
   "outputs": [],
   "source": [
    "WriteGrid('CREST_Parameters/under.tif')\n",
    "WriteGrid('CREST_Parameters/leaki.tif')"
   ]
  },
  {
   "cell_type": "markdown",
   "metadata": {},
   "source": [
    "# Compute alpha and beta\n",
    "## Requirements\n",
    "\n",
    "This module uses information from the USGS stations over the CONUS to generate a statistical model for estimating the kinematic wave alpha and beta parameters for a given grid. The already trained model is provided here.\n",
    "\n",
    "This model requires basin averaged estimates of the following variables:\n",
    "* Mean annual temperature (degrees C) *EF5-KW-Estimation-master/input_grids/temp.avg.tif*\n",
    "* Mean annual precipitation (mm)*EF5-KW-Estimation-master/input_grids/precip.avg.tif*\n",
    "* Impervious area (%) *EF5-KW-Estimation-master/input_grids/imperv.avg.tif*\n",
    "* Clay (%) *EF5-KW-Estimation-master/input_grids/clay_pct.avg.tif*\n",
    "* Sand (%) *EF5-KW-Estimation-master/input_grids/sand_pct.avg.tif*\n",
    "* Silt (%) *EF5-KW-Estimation-master/input_grids/silt_pct.avg.tif*\n",
    "* Relief ratio *EF5-KW-Estimation-master/input_grids/relief.ratio.avg.tif*\n",
    "* Course Fragments (%) *EF5-KW-Estimation-master/input_grids/course_fragments.avg.tif*\n",
    "* Depth to bedrock (mm) *EF5-KW-Estimation-master/input_grids/abs_depth_bedrock.avg.tif*\n",
    "* Bulk Density *EF5-KW-Estimation-master/input_grids/bulk_density.avg.tif*\n",
    "* Population *EF5-KW-Estimation-master/input_grids/population.avg.tif*"
   ]
  },
  {
   "cell_type": "code",
   "execution_count": null,
   "metadata": {},
   "outputs": [],
   "source": [
    "# keepInfo=True keeps the projection and spatial reference information for this grid...\n",
    "# to use when writing the output grids\n",
    "# We need log basin area, so compute that here\n",
    "basinArea = ReadGrid(\"EF5-KW-Estimation-master/input_grids/basin.area.tif\", keepInfo=True)\n",
    "basinArea = np.log10(basinArea)\n",
    "\n",
    "temp = ReadGrid(\"EF5-KW-Estimation-master/input_grids/temp.avg.tif\")\n",
    "precip = ReadGrid(\"EF5-KW-Estimation-master/input_grids/precip.avg.tif\")\n",
    "imperv = ReadGrid(\"EF5-KW-Estimation-master/input_grids/imperv.avg.tif\")\n",
    "clay = ReadGrid(\"EF5-KW-Estimation-master/input_grids/clay_pct.avg.tif\")\n",
    "sand = ReadGrid(\"EF5-KW-Estimation-master/input_grids/sand_pct.avg.tif\")\n",
    "silt = ReadGrid(\"EF5-KW-Estimation-master/input_grids/silt_pct.avg.tif\")\n",
    "rr = ReadGrid(\"EF5-KW-Estimation-master/input_grids/relief.ratio.avg.tif\")\n",
    "frags = ReadGrid(\"EF5-KW-Estimation-master/input_grids/course_fragments.avg.tif\")\n",
    "bedrock = ReadGrid(\"EF5-KW-Estimation-master/input_grids/abs_depth_bedrock.avg.tif\")\n",
    "density = ReadGrid(\"EF5-KW-Estimation-master/input_grids/bulk_density.avg.tif\")\n",
    "pop = ReadGrid(\"EF5-KW-Estimation-master/input_grids/population.avg.tif\")"
   ]
  },
  {
   "cell_type": "markdown",
   "metadata": {},
   "source": [
    "## Load the pickled models so we can run them on our data"
   ]
  },
  {
   "cell_type": "code",
   "execution_count": null,
   "metadata": {},
   "outputs": [],
   "source": [
    "scaler = pickle.load(open(\"scaler.p\", \"rb\"), encoding='latin1')\n",
    "alphamod = pickle.load(open(\"alpha_model.p\", \"rb\"), encoding='latin1')\n",
    "betamod = pickle.load(open(\"beta_model.p\", \"rb\"), encoding='latin1')"
   ]
  },
  {
   "cell_type": "markdown",
   "metadata": {},
   "source": [
    "## Run the models to estimate alpha & beta"
   ]
  },
  {
   "cell_type": "code",
   "execution_count": null,
   "metadata": {},
   "outputs": [],
   "source": [
    "print(\"Transforming to scaled parameter space\")\n",
    "pred_real = scaler.transform(np.column_stack((basinArea, temp, precip, clay, sand, silt, rr, frags, bedrock, imperv, density, pop)))\n",
    "\n",
    "print(\"Computing alpha\")\n",
    "alpha = alphamod.predict(pred_real)\n",
    "alpha = np.power(10.0, alpha)\n",
    "\n",
    "print(\"Computing beta\")\n",
    "beta = betamod.predict(pred_real)\n",
    "\n",
    "# Since the model extrapolates, we do a trick here to bound the minimum beta to 0.\n",
    "bad = np.where(beta < 0.0)\n",
    "beta[bad] = np.exp(beta[bad] * 10.0)"
   ]
  },
  {
   "cell_type": "markdown",
   "metadata": {},
   "source": [
    "## Write the new parameter grids to disk"
   ]
  },
  {
   "cell_type": "code",
   "execution_count": null,
   "metadata": {},
   "outputs": [],
   "source": [
    "WriteGrid(\"EF5-KW-Estimation-master/output_grids/kw_alpha.tif\", alpha)\n",
    "WriteGrid(\"EF5-KW-Estimation-master/output_grids/kw_beta.tif\", beta)"
   ]
  }
 ],
 "metadata": {
  "kernelspec": {
   "display_name": "Python 3",
   "language": "python",
   "name": "python3"
  },
  "language_info": {
   "codemirror_mode": {
    "name": "ipython",
    "version": 3
   },
   "file_extension": ".py",
   "mimetype": "text/x-python",
   "name": "python",
   "nbconvert_exporter": "python",
   "pygments_lexer": "ipython3",
   "version": "3.7.3"
  }
 },
 "nbformat": 4,
 "nbformat_minor": 2
}
